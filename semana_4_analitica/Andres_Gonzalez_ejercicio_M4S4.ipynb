{
 "cells": [
  {
   "cell_type": "markdown",
   "id": "ac676562",
   "metadata": {},
   "source": [
    "Parte A - Ejercicios Prácticos\n",
    "\n",
    "1.Suma de precios por producto\n"
   ]
  },
  {
   "cell_type": "code",
   "execution_count": null,
   "id": "69ab501f",
   "metadata": {},
   "outputs": [],
   "source": [
    "# Python Basico\n",
    "Producto = [(\"manzana\", 1200), (\"banana\", 800), (\"pera\", 1500)]\n",
    "Suma = sum(precio for _, precio in Producto )\n",
    "print (f'La suma total es' ,Suma)\n",
    "\n",
    "# Numpy\n",
    "import numpy as np\n",
    "Producto = [(\"manzana\", 1200), (\"banana\", 800), (\"pera\", 1500)]\n",
    "precio = np.array([precio for _, precio in Producto ])\n",
    "Suma_total = np.sum(precio)\n",
    "print(f'La suma total es', Suma_total)"
   ]
  },
  {
   "cell_type": "markdown",
   "id": "f0d743db",
   "metadata": {},
   "source": [
    "2. Promedio de notas por estudiante"
   ]
  },
  {
   "cell_type": "code",
   "execution_count": null,
   "id": "e208c8bb",
   "metadata": {},
   "outputs": [],
   "source": [
    "#Python Basico\n",
    "notas = {\n",
    "    \"Ana\": [4.5, 3.8, 4.0],\n",
    "    \"Luis\":[3.0, 3.5, 4.2] ,\n",
    "    \"Marta\": [5.0, 4.8, 4.9] \n",
    "}\n",
    "for estudiante, lista_notas in notas.items():\n",
    "    promedio = sum(lista_notas) / len(lista_notas)\n",
    "    print(f\"{estudiante}: {promedio:.2f}\")\n",
    "\n",
    "#Numpy\n",
    "import numpy as np\n",
    "notas = {\n",
    "    \"Ana\":  [4.5, 3.8, 4.0],\n",
    "    \"Luis\": [3.0, 3.5, 4.2],\n",
    "    \"Marta\":[5.0, 4.8, 4.9]\n",
    "}\n",
    "for estudiante, lista_notas in notas.items():\n",
    "    promedio = np.mean(lista_notas)\n",
    "    print(f\"{estudiante}: {promedio:.2f}\")"
   ]
  },
  {
   "cell_type": "markdown",
   "id": "517d2493",
   "metadata": {},
   "source": [
    "3. Filtrar cantidades altas"
   ]
  },
  {
   "cell_type": "code",
   "execution_count": null,
   "id": "a6a1aa86",
   "metadata": {},
   "outputs": [],
   "source": [
    "# Python\n",
    "productos = [\"balón\", \"raqueta\", \"camiseta\", \"zapatillas\"]\n",
    "cantidades = [5, 2, 10, 1]\n",
    "resultado = {prod: cant for prod, cant in zip(productos, cantidades) if cant > 3}\n",
    "print(resultado)\n",
    "\n",
    "# Numpy\n",
    "import numpy as np\n",
    "productos = np.array([\"balón\", \"raqueta\", \"camiseta\", \"zapatillas\"])\n",
    "cantidades = np.array([5, 2, 10, 1])\n",
    "mask = cantidades > 3  \n",
    "productos_filtrados = productos[mask]\n",
    "cantidades_filtradas = cantidades[mask]\n",
    "resultado = dict(zip(productos_filtrados, cantidades_filtradas))\n",
    "print(resultado)"
   ]
  },
  {
   "cell_type": "markdown",
   "id": "ad1da9c1",
   "metadata": {},
   "source": [
    "Parte B - Cargar y explorar un dataset con Pandas "
   ]
  },
  {
   "cell_type": "code",
   "execution_count": null,
   "id": "0699ecb9",
   "metadata": {},
   "outputs": [],
   "source": [
    "import pandas as pd\n",
    "# Carga el dataset en un DataFrame de Pandas.\n",
    "df = pd.read_excel('C:/Users/User/OneDrive/Documents/RIWI/ANALISIS DATOS/Semana 4/Jupiter NoteBook/dataset_tienda_deportes_Q4_2025.xlsx')\n",
    "\n",
    "# Muestra las primeras y últimas 5 filas del DataFrame.\n",
    "df.head(5) \n",
    "df.tail(5)\n",
    "\n",
    "# Identifica cuántas filas y columnas tiene\n",
    "print(df.shape)\n",
    "\n",
    "# Lista los nombres de las columnas y sus tipos de datos\n",
    "df.columns\n",
    "df.dtypes\n",
    "\n",
    "# Comprueba si hay valores nulos y cuántos por columna\n",
    "df.isnull().sum()\n",
    "\n",
    "# Explora estadísticamente las columnas numéricas\n",
    "df.describe()\n",
    "\n",
    "# Filtra por condición ventas mayores a 25000\n",
    "df_filtrado = df['Total_Venta'] > 25000\n",
    "df_filtrado = df[df_filtrado]\n",
    "df_filtrado.head(5)"
   ]
  }
 ],
 "metadata": {
  "kernelspec": {
   "display_name": "Python 3",
   "language": "python",
   "name": "python3"
  },
  "language_info": {
   "codemirror_mode": {
    "name": "ipython",
    "version": 3
   },
   "file_extension": ".py",
   "mimetype": "text/x-python",
   "name": "python",
   "nbconvert_exporter": "python",
   "pygments_lexer": "ipython3",
   "version": "3.13.3"
  }
 },
 "nbformat": 4,
 "nbformat_minor": 5
}
